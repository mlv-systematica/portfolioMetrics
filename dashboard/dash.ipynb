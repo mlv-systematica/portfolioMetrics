{
 "cells": [
  {
   "cell_type": "markdown",
   "metadata": {},
   "source": [
    "# DashBoard SmartFolio"
   ]
  },
  {
   "cell_type": "code",
   "execution_count": 1,
   "metadata": {},
   "outputs": [],
   "source": [
    "import sys\n",
    "import os\n",
    "\n",
    "import pandas as pd\n",
    "import numpy as np\n",
    "import seaborn as sns\n",
    "import plotly.express as px\n",
    "import importlib\n",
    "\n",
    "path = %pwd\n",
    "sys.path.append(\"\\\\\".join((path.split(\"\\\\\")[:-1])) + \"\\\\\")\n",
    "\n",
    "from portfolio.portfolio import Portfolio\n",
    "from data.importManager import importManager\n",
    "import metrics\n",
    "\n",
    "\n",
    "import matplotlib.pyplot as plt\n"
   ]
  },
  {
   "cell_type": "code",
   "execution_count": null,
   "metadata": {},
   "outputs": [],
   "source": [
    "tickers = [\"XWD.TO\", \"^GSPC\", \"^STOXX50E\", \"^N225\", \"EEM\", \"BTC-USD\", \"ETH-USD\", \"GLD\"]\n",
    "tickers_mathis = [\"XWD.TO\", \"BTC-EUR\", \"ETH-EUR\", \"SOL-EUR\", \"IUIT.L\",\"SEMI.AS\", \"GLD\"]\n",
    "im = importManager()\n",
    "data = im.spots(tickers_mathis)\n",
    "ptf = Portfolio(data.reset_index().drop_duplicates().pivot(index=\"Date\", columns=\"ticker\", values=\"Close\"))"
   ]
  },
  {
   "cell_type": "code",
   "execution_count": 2,
   "metadata": {},
   "outputs": [
    {
     "data": {
      "text/plain": [
       "<module 'metrics' from 'c:\\\\Users\\\\math-\\\\OneDrive\\\\Bureau\\\\DEV\\\\smartFolio\\\\metrics\\\\__init__.py'>"
      ]
     },
     "execution_count": 2,
     "metadata": {},
     "output_type": "execute_result"
    }
   ],
   "source": []
  },
  {
   "cell_type": "markdown",
   "metadata": {},
   "source": [
    "## Analyse statistique des actifs"
   ]
  },
  {
   "cell_type": "markdown",
   "metadata": {},
   "source": [
    "#### Corrélation"
   ]
  },
  {
   "cell_type": "code",
   "execution_count": null,
   "metadata": {},
   "outputs": [],
   "source": [
    "sns.heatmap(ptf.df_price.resample(\"M\").last().pct_change().corr(), annot=True, cmap=\"coolwarm\", fmt=\".2f\", linewidths=0.5)"
   ]
  },
  {
   "cell_type": "markdown",
   "metadata": {},
   "source": [
    "### Statistiques descriptives"
   ]
  },
  {
   "cell_type": "code",
   "execution_count": null,
   "metadata": {},
   "outputs": [],
   "source": [
    "ptf.df_returns.describe()"
   ]
  },
  {
   "cell_type": "markdown",
   "metadata": {},
   "source": [
    "### Analyse des returns"
   ]
  },
  {
   "cell_type": "code",
   "execution_count": null,
   "metadata": {},
   "outputs": [],
   "source": [
    "import metrics as metrics\n",
    "metrics"
   ]
  },
  {
   "cell_type": "markdown",
   "metadata": {},
   "source": [
    "## Allocation & Stratégie d'investissement"
   ]
  },
  {
   "cell_type": "code",
   "execution_count": null,
   "metadata": {},
   "outputs": [],
   "source": [
    "dico_weights = {\"BTC-EUR\" : 475, \"ETH-EUR\" :209, \"IUIT.L\" : 155, \"SEMI.AS\" : 107.8, \"SOL-EUR\" : 266.27, \"XWD.TO\" : 821.3, \"GLD\" : 206}\n",
    "weights = pd.DataFrame(index=ptf.df_price.index)\n",
    "for ticker in ptf.df_price:\n",
    "    weights[ticker] = dico_weights[ticker]\n",
    "weights=weights/sum(dico_weights.values())\n",
    "\n",
    "print(\"Backtest Statique\")\n",
    "res = ptf.get_quickBacktest(weights, freq=\"M\", q=0.01)\n",
    "px.line(res[\"ptf_track\"].rename({\"0\" : \"Backtest\"}, axis=1), title=\"Backtest\").show()\n",
    "display(res[\"risk_metrics\"])\n",
    "risk_contribution = metrics.get_vol_contribution(ptf.df_returns.iloc[:], np.asarray(weights.iloc[-1]))\n",
    "print(\"Risk Contribution :\")\n",
    "display(risk_contribution)\n"
   ]
  },
  {
   "cell_type": "code",
   "execution_count": null,
   "metadata": {},
   "outputs": [],
   "source": [
    "scope = res[\"ptf_track\"].pct_change(periods=252).dropna()\n",
    "scope[scope>0].dropna().shape[0]/scope.shape[0]"
   ]
  },
  {
   "cell_type": "markdown",
   "metadata": {},
   "source": [
    "#TODO : \n",
    "\n",
    "metrics => \n",
    "-risk\n",
    "-performance\n",
    "-signal\n",
    "\n",
    "creer un module deals =>\n",
    "-nominal exct \n",
    "-portfolio a un attribut deals + signal \n",
    "\n",
    "une fois deal implémenté => faire une version backtest avec drift des poids\n",
    "\n",
    "creer un module signal\n",
    "\n",
    "ajouter des graphes win/lose ratio après une période x d'invest => permet de mesurer l'effet timing\n",
    "\n"
   ]
  },
  {
   "cell_type": "markdown",
   "metadata": {},
   "source": []
  }
 ],
 "metadata": {
  "kernelspec": {
   "display_name": "base",
   "language": "python",
   "name": "python3"
  },
  "language_info": {
   "codemirror_mode": {
    "name": "ipython",
    "version": 3
   },
   "file_extension": ".py",
   "mimetype": "text/x-python",
   "name": "python",
   "nbconvert_exporter": "python",
   "pygments_lexer": "ipython3",
   "version": "3.8.8"
  }
 },
 "nbformat": 4,
 "nbformat_minor": 2
}
